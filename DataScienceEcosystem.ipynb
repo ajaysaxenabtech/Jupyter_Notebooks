{
 "cells": [
  {
   "cell_type": "markdown",
   "metadata": {},
   "source": [
    "<center>\n",
    "    <img src=\"https://cf-courses-data.s3.us.cloud-object-storage.appdomain.cloud/IBMDeveloperSkillsNetwork-DS0105EN-SkillsNetwork/labs/Module2/images/SN_web_lightmode.png\" width=\"300\" alt=\"cognitiveclass.ai logo\">\n",
    "</center>\n"
   ]
  },
  {
   "cell_type": "markdown",
   "metadata": {},
   "source": [
    "#### Add your code below following the instructions given in the course\n"
   ]
  },
  {
   "cell_type": "markdown",
   "metadata": {},
   "source": [
    "**Exercise 1: Create a Jupyter Notebook**"
   ]
  },
  {
   "cell_type": "markdown",
   "metadata": {},
   "source": [
    "The notebook is renamed with **DataScienceEcosystem**"
   ]
  },
  {
   "cell_type": "markdown",
   "metadata": {},
   "source": [
    "**Exercise 2: Create markdown cell with title of the notebook**"
   ]
  },
  {
   "cell_type": "markdown",
   "metadata": {},
   "source": [
    "# Data Science Tools and Ecosystem"
   ]
  },
  {
   "cell_type": "markdown",
   "metadata": {},
   "source": [
    "**Exercise 3 - Create a markdown cell for an introduction**"
   ]
  },
  {
   "cell_type": "markdown",
   "metadata": {},
   "source": [
    "In this notebook, we will provide a summary of the Data Science Tools and Ecosystem. We will explore various tools, languages, libraries, and frameworks commonly used in the field of data science."
   ]
  },
  {
   "cell_type": "markdown",
   "metadata": {},
   "source": [
    "**Exercise 4 - Create a markdown cell to list data science languages**"
   ]
  },
  {
   "cell_type": "markdown",
   "metadata": {},
   "source": [
    "Some of the popular languages that Data Scientists use are:\n",
    "<br>1.Python <br>\n",
    "2.R<br>\n",
    "3.Julia<br>\n",
    "Python, R, and Julia are three commonly used languages in the field of data science. Each language has its own strengths and is widely adopted by data scientists for various tasks, including data manipulation, statistical analysis, machine learning, and visualization. These languages provide extensive libraries, frameworks, and tools that enable efficient data analysis and modeling workflows."
   ]
  },
  {
   "cell_type": "markdown",
   "metadata": {},
   "source": [
    "**Exercise 5 - Create a markdown cell to list data science libraries**"
   ]
  },
  {
   "cell_type": "markdown",
   "metadata": {},
   "source": [
    "Some of the commonly used libraries used by Data Scientists include:\n",
    "<br>1.NumPy\n",
    "<br>2.pandas\n",
    "<br>3.scikit-learn<br>\n",
    "NumPy, pandas, and scikit-learn are three widely adopted libraries in the field of data science. These libraries provide essential tools and functionalities for data manipulation, analysis, and machine learning tasks.\n",
    "\n",
    "NumPy (Numerical Python) is a fundamental library for numerical computing in Python. It provides efficient data structures and functions for handling large, multi-dimensional arrays and matrices, along with a collection of mathematical operations.\n",
    "\n",
    "pandas is a powerful library for data manipulation and analysis. It offers intuitive data structures, such as DataFrame, that simplify data handling and cleaning tasks. pandas also provides tools for data exploration, transformation, and aggregation.\n",
    "\n",
    "scikit-learn is a comprehensive machine learning library in Python. It includes a wide range of algorithms and tools for tasks such as classification, regression, clustering, and dimensionality reduction. scikit-learn also provides utilities for model evaluation, data preprocessing, and feature selection.\n",
    "\n",
    "These libraries, along with many others available in the data science ecosystem, form the foundation for data analysis, modeling, and predictive analytics in various domains."
   ]
  },
  {
   "cell_type": "markdown",
   "metadata": {},
   "source": [
    "**Exercise 6 - Create a markdown cell with a table of Data Science tools**"
   ]
  },
  {
   "cell_type": "markdown",
   "metadata": {},
   "source": [
    "| Data Science Tools |\n",
    "| :---------------- |\n",
    "| Jupyter Notebook  |\n",
    "| RStudio           |\n",
    "| Visual Studio Code|\n"
   ]
  },
  {
   "cell_type": "markdown",
   "metadata": {},
   "source": [
    "**Exercise 7 - Create a markdown cell introducing arithmetic expression examples**"
   ]
  },
  {
   "cell_type": "markdown",
   "metadata": {},
   "source": [
    "### Below are a few examples of evaluating arithmetic expressions in Python.\n",
    "We introduce examples of evaluating arithmetic expressions in Python. Arithmetic expressions involve mathematical operations like addition, subtraction, multiplication, and division, which can be performed using Python's built-in arithmetic operators.\n",
    "\n",
    "To evaluate arithmetic expressions in Python, you can use the following operators:\n",
    "<br>Addition: +\n",
    "<br>Subtraction: -\n",
    "<br>Multiplication: *\n",
    "<br>Division: /\n",
    "<br>Exponentiation: **\n",
    "<br>Modulo (remainder): %\n",
    "<br>Here are a few examples of evaluating arithmetic expressions:"
   ]
  },
  {
   "cell_type": "code",
   "execution_count": 4,
   "metadata": {},
   "outputs": [],
   "source": [
    "# Addition\n",
    "result1 = 2 + 3\n",
    "\n",
    "# Subtraction\n",
    "result2 = 5 - 2\n",
    "\n",
    "# Multiplication\n",
    "result3 = 4 * 6\n",
    "\n",
    "# Division\n",
    "result4 = 10 / 2\n",
    "\n",
    "# Exponentiation\n",
    "result5 = 2 ** 4\n",
    "\n",
    "# Modulo (remainder)\n",
    "result6 = 10 % 3\n"
   ]
  },
  {
   "cell_type": "markdown",
   "metadata": {},
   "source": [
    "**Exercise 8 - Create a code cell to multiply and add numbers**"
   ]
  },
  {
   "cell_type": "code",
   "execution_count": 5,
   "metadata": {},
   "outputs": [
    {
     "data": {
      "text/plain": [
       "17"
      ]
     },
     "execution_count": 5,
     "metadata": {},
     "output_type": "execute_result"
    }
   ],
   "source": [
    "# This is a simple arithmetic expression to multiply then add integers.\n",
    "result = (3 * 4) + 5\n",
    "result\n"
   ]
  },
  {
   "cell_type": "markdown",
   "metadata": {},
   "source": [
    "**Exercise 9 - Create a code cell to convert minutes to hours**"
   ]
  },
  {
   "cell_type": "code",
   "execution_count": 6,
   "metadata": {},
   "outputs": [
    {
     "data": {
      "text/plain": [
       "3.3333333333333335"
      ]
     },
     "execution_count": 6,
     "metadata": {},
     "output_type": "execute_result"
    }
   ],
   "source": [
    "# This will convert 200 minutes to hours by dividing by 60.\n",
    "minutes = 200\n",
    "hours = minutes / 60\n",
    "hours\n"
   ]
  },
  {
   "cell_type": "markdown",
   "metadata": {},
   "source": [
    "**Exercise 10 - Insert a markdown cell to list Objectives**"
   ]
  },
  {
   "cell_type": "markdown",
   "metadata": {},
   "source": [
    "**Objectives:**\n",
    "\n",
    "- List popular languages for Data Science\n",
    "- Explore common Data Science tools\n",
    "- Explore common Data Science libraries\n",
    "- Arithmetic expressions in Python\n",
    "- Basic conversions like minutes to hours\n",
    "\n"
   ]
  },
  {
   "cell_type": "markdown",
   "metadata": {},
   "source": [
    "**Exercise 11 - Create a markdown cell to indicate the Author's name**"
   ]
  },
  {
   "cell_type": "markdown",
   "metadata": {},
   "source": [
    "## Author\n",
    "Ajay Saxena"
   ]
  },
  {
   "cell_type": "markdown",
   "metadata": {},
   "source": [
    "**Exercise 12 - Share your notebook through GitHub**"
   ]
  },
  {
   "cell_type": "markdown",
   "metadata": {},
   "source": [
    "https://github.com/ajaysaxenabtech/Jupyter_Notebooks.git"
   ]
  },
  {
   "cell_type": "code",
   "execution_count": null,
   "metadata": {},
   "outputs": [],
   "source": []
  }
 ],
 "metadata": {
  "kernelspec": {
   "display_name": "Python 3 (ipykernel)",
   "language": "python",
   "name": "python3"
  },
  "language_info": {
   "codemirror_mode": {
    "name": "ipython",
    "version": 3
   },
   "file_extension": ".py",
   "mimetype": "text/x-python",
   "name": "python",
   "nbconvert_exporter": "python",
   "pygments_lexer": "ipython3",
   "version": "3.10.9"
  }
 },
 "nbformat": 4,
 "nbformat_minor": 4
}
